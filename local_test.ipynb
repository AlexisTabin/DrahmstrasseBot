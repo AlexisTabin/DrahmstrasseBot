{
 "cells": [
  {
   "cell_type": "code",
   "execution_count": 2,
   "metadata": {},
   "outputs": [],
   "source": [
    "import datetime"
   ]
  },
  {
   "cell_type": "code",
   "execution_count": 3,
   "metadata": {},
   "outputs": [
    {
     "data": {
      "text/plain": [
       "41"
      ]
     },
     "execution_count": 3,
     "metadata": {},
     "output_type": "execute_result"
    }
   ],
   "source": [
    "datetime.date(2023, 10, 9).isocalendar()[1]"
   ]
  },
  {
   "cell_type": "code",
   "execution_count": 5,
   "metadata": {},
   "outputs": [
    {
     "name": "stdout",
     "output_type": "stream",
     "text": [
      "initial week nb: 41\n",
      "current week nb: 25\n"
     ]
    }
   ],
   "source": [
    " inital_week_nb = datetime.date(2023, 10, 9).isocalendar()[1]\n",
    "current_week_nb = datetime.datetime.now().isocalendar()[1]\n",
    "\n",
    "print(\"initial week nb: \" + str(inital_week_nb))\n",
    "print(\"current week nb: \" + str(current_week_nb))\n",
    "\n",
    "# increment index by 1 every 2 weeks\n",
    "index = (current_week_nb - inital_week_nb) // 2\n",
    "\n"
   ]
  },
  {
   "cell_type": "code",
   "execution_count": 6,
   "metadata": {},
   "outputs": [
    {
     "data": {
      "text/plain": [
       "-8"
      ]
     },
     "execution_count": 6,
     "metadata": {},
     "output_type": "execute_result"
    }
   ],
   "source": [
    "index"
   ]
  },
  {
   "cell_type": "code",
   "execution_count": 8,
   "metadata": {},
   "outputs": [],
   "source": [
    "from apscheduler.schedulers.background import BackgroundScheduler\n",
    "from apscheduler.triggers.cron import CronTrigger"
   ]
  },
  {
   "cell_type": "code",
   "execution_count": 11,
   "metadata": {},
   "outputs": [],
   "source": [
    "scheduler = BackgroundScheduler()\n",
    "scheduler.start()\n",
    "\n",
    "\n",
    "trigger_roles = CronTrigger(\n",
    "        year=\"*\", month=\"*\", day=\"1\", hour=\"10\", minute=\"0\", second=\"0\"\n",
    "    )"
   ]
  },
  {
   "cell_type": "code",
   "execution_count": 12,
   "metadata": {},
   "outputs": [
    {
     "data": {
      "text/plain": [
       "<CronTrigger (year='*', month='*', day='1', hour='10', minute='0', second='0', timezone='Europe/Berlin')>"
      ]
     },
     "execution_count": 12,
     "metadata": {},
     "output_type": "execute_result"
    }
   ],
   "source": [
    "trigger_roles"
   ]
  },
  {
   "cell_type": "code",
   "execution_count": 91,
   "metadata": {},
   "outputs": [],
   "source": [
    "import requests\n",
    "import pandas as pd\n",
    "import folium\n",
    "import branca\n",
    "import anytree\n",
    "\n",
    "def get_en(field):\n",
    "    try:\n",
    "        return field['en']\n",
    "    except (KeyError, TypeError):\n",
    "        try:\n",
    "            return field['fr']\n",
    "        except (KeyError, TypeError):\n",
    "                try:\n",
    "                    return field['de']\n",
    "                except (KeyError, TypeError):\n",
    "                    return field\n",
    "                \n",
    "\n",
    "headers = {'Accept': 'application/json'}\n",
    "base_url = 'https://www.zuerich.com'\n",
    "data_url = base_url + '/en/api/v2/data'"
   ]
  },
  {
   "cell_type": "code",
   "execution_count": 115,
   "metadata": {},
   "outputs": [],
   "source": [
    "def get_main_id(data_url):\n",
    "    r = requests.get(data_url, headers=headers)\n",
    "    data = r.json()\n",
    "    main = [e for e in data if e['parent'] == '0']\n",
    "\n",
    "    to_return = {}\n",
    "\n",
    "    for element in main:\n",
    "        to_return[element['name']['en']] = element['id']\n",
    "\n",
    "    return to_return\n",
    "\n",
    "def get_sub_main_id(id_url):\n",
    "    r = requests.get(id_url, headers=headers)\n",
    "    data = r.json()\n",
    "\n",
    "    to_return = {}\n",
    "\n",
    "    for element in data:\n",
    "        print(element)\n",
    "        #to_return[element['name']['en']] = element['id']\n",
    "\n",
    "    return to_return\n",
    "\n"
   ]
  },
  {
   "cell_type": "code",
   "execution_count": 116,
   "metadata": {},
   "outputs": [],
   "source": [
    "main = get_main_id(data_url=data_url)"
   ]
  },
  {
   "cell_type": "code",
   "execution_count": 117,
   "metadata": {},
   "outputs": [
    {
     "name": "stdout",
     "output_type": "stream",
     "text": [
      "{'@context': 'https://schema.org/', '@type': 'PerformingArtsTheater', '@customType': None, 'identifier': '1011143', 'copyrightHolder': {'de': 'Zürich Tourismus www.zuerich.com', 'en': 'Zurich Tourism www.zuerich.com', 'it': 'Zürich Tourismo www.zuerich.com', 'fr': 'Zürich Tourisme www.zuerich.com'}, 'license': 'BY-SA', 'tomasBookingId': None, 'category': {'Nightlife': {'swissId': ''}, 'Theater': {'swissId': ''}, 'Parties': {'swissId': ''}, 'Comedy': {'swissId': ''}}, 'name': {'de': 'Theatersaal Volkshaus Zürich', 'en': 'Theatersaal Volkshaus Zürich', 'fr': 'Theatersaal Volkshaus Zürich', 'it': 'Theatersaal Volkshaus Zürich'}, 'disambiguatingDescription': {'de': 'Direkt am Helvetiaplatz geniessen Musikbegeisterte, Kulturinteressierte und Partygänger:innen unvergessliche Momente in Zürich.', 'en': 'Directly on Helvetiaplatz, music lovers, culture enthusiasts, and partygoers can enjoy unforgettable moments in Zurich.', 'fr': 'Sur la place Helvetiaplatz, les mélomanes, les amateurs de culture et les fêtards passent des moments inoubliables à Zurich.', 'it': 'Direttamente sulla Helvetiaplatz, gli appassionati di musica, cultura e party vivono momenti indimenticabili a Zurigo.'}, 'description': {'de': '<p>Der Theatersaal des Volkshaus Z&uuml;rich, nahe der legend&auml;ren Langstrasse, ist ein wichtiger Veranstaltungsort f&uuml;r Konzerte, Partys, Balletauff&uuml;hrungen und Comedyauftritte. Stars wie AC/DC, Scorpions, The Black Eyed Peas und Amy Winehouse standen hier bereits auf der B&uuml;hne.<p>Einst diente das Volkshaus als Zentrum der schweizerischen Arbeitsbewegung und bot g&uuml;nstige Speisen f&uuml;r Arbeiter:innen an. Mit der Zeit wurden R&auml;umlichkeiten f&uuml;r gesellige Zusammenk&uuml;nfte geschaffen, darunter auch der Theatersaal.</p><p>Heute bietet das Volkshaus Z&uuml;rich ein<a href=\"https://www.zuerich.com/de/besuchen/restaurants/restaurant-volkshaus\"> Restaurant</a> in urbaner Atmosph&auml;re sowie ein breites Angebot an Veranstaltungen f&uuml;r alle Geschm&auml;cker und Altersgruppen.</p></p>', 'en': '<p>The Theatersaal &ndash; or auditorium &ndash; of the Volkshaus Zurich, situated near the legendary Langstrasse, is an important venue for concerts, parties, ballet performances, and comedy shows. Stars such as AC/DC, Scorpions, The Black Eyed Peas, and Amy Winehouse have already performed on stage here.<p>The Volkshaus once served as the center of the Swiss labor movement, offering inexpensive meals for workers. Over time, spaces &ndash; including the Theatersaal &ndash; were created for social gatherings.</p><p>Today, the Volkshaus Z&uuml;rich offers a <a href=\"https://www.zuerich.com/en/visit/restaurants/restaurant-volkshaus\">restaurant</a> in an urban atmosphere, as well as a broad range of events for all tastes and age groups.</p></p>', 'fr': '<p>La salle de th&eacute;&acirc;tre de Volkshaus de Zurich, situ&eacute;e pr&egrave;s de la l&eacute;gendaire Langstrasse, est un lieu important accueillant des concerts, des f&ecirc;tes, des repr&eacute;sentations de ballet et des spectacles d&rsquo;humour. Des stars comme AC/DC, Scorpions, The Black Eyed Peas et Amy Winehouse s&rsquo;y sont d&eacute;j&agrave; produites.<p>Autrefois, la Volkshaus (&laquo;&nbsp;maison du peuple&nbsp;&raquo;) servait de centre au mouvement ouvrier suisse et proposait des repas bon march&eacute; aux travailleurs et travailleuses. Au fil du temps, des locaux, dont la salle de th&eacute;&acirc;tre, ont &eacute;t&eacute; cr&eacute;&eacute;s pour des r&eacute;unions conviviales.</p><p>Aujourd&rsquo;hui, Volkshaus Z&uuml;rich propose <a href=\"https://www.zuerich.com/fr/visite/restaurants/restaurant-volkshaus\">un restaurant</a> &agrave; l&rsquo;atmosph&egrave;re urbaine ainsi qu&rsquo;un large &eacute;ventail de manifestations pour tous les go&ucirc;ts et tous les &acirc;ges.</p></p>', 'it': '<p>La Theatersaal del Volskhaus Z&uuml;rich, vicino alla leggendaria Langstrasse, &egrave; un&rsquo;importante location per concerti, feste, balletti e cabaret. Stelle come gli AC/DC, gli Scorpions, i Black Eyed Peas e Amy Winehouse si sono gi&agrave; esibite su questo palco.&nbsp;<p>Un tempo, il Volkshaus fungeva da centro del movimento operaio svizzero e proponeva pasti economici ai lavoratori. Col passare degli anni, sono state create sale per incontri conviviali, tra cui la Theatersaal.</p><p>Oggi, il Volkshaus Z&uuml;rich propone un <a href=\"https://www.zuerich.com/it/visitare/ristoranti/ristorante-volkshaus\">ristorante</a> dall&rsquo;atmosfera urbana e tanti eventi per tutti i gusti e le et&agrave;.</p></p>'}, 'titleTeaser': {'de': 'Theatersaal Volkshaus Zürich', 'en': 'Theatersaal Volkshaus Zürich', 'fr': 'Theatersaal Volkshaus Zürich', 'it': 'Theatersaal Volkshaus Zürich'}, 'textTeaser': {'de': 'Der Theatersaal ist ein historischer Event-Hotspot: Konzerte, Ballett und Comedy mit internationalen Top Acts.', 'en': 'The Theatersaal is a historic event hotspot: concerts, ballet and comedy with top international acts.', 'fr': ' Ce lieu historique accueille concerts, ballets et comédies avec des artistes de renommée internationale.', 'it': 'Concerti, balletti, cabaret con stelle di caratura internazionale: la Theatersaal è una location storica.'}, 'detailedInformation': {'de': ['Konzert-Location im Stadtzentrum', 'Mitten im Ausgehviertel Zürichs', 'Nationale und internationale Bands'], 'en': ['Concert venue in the city center', 'In the heart of Zurich’s nightlife district', 'National and international bands'], 'fr': ['Lieu de concert au centre-ville', 'Au cœur du quartier nocturne de Zurich', 'Groupes nationaux et internationaux'], 'it': ['Location per concerti in centro', 'Nel cuore del quartiere dei locali', 'Band nazionali e internazionali']}, 'zurichCardDescription': None, 'zurichCard': False, 'osm_id': '', 'image': {'url': 'https://www.zuerich.com/sites/default/files/image/2022/web_zurich_venue_volkshaus_PT_36606_1280x960.jpg', 'caption': {'de': None, 'en': 'Zurich Venue, Volkshaus', 'fr': None, 'it': None}}, 'price': {'de': None, 'en': None, 'fr': None, 'it': None}, 'photo': None, 'dateModified': '2024-06-20T16:21', 'opens': [], 'openingHours': '', 'openingHoursSpecification': None, 'specialOpeningHoursSpecification': {'de': '<p>&Ouml;ffnungszeiten gem&auml;ss <a href=\"https://www.volkshaus.ch/aktuell\" target=\"_blank\">Eventplan</a></p>', 'en': '<p>Opening times according to&nbsp;<a href=\"https://www.volkshaus.ch/aktuell\" target=\"_blank\">event programme</a></p>', 'fr': '<p>Heures d\\'ouverture selon <a href=\"https://www.volkshaus.ch/aktuell\">le plan des &eacute;v&eacute;nements</a></p>', 'it': '<p>Orari di apertura come da <a href=\"https://www.volkshaus.ch/aktuell\" target=\"_blank\">calendario</a></p>'}, 'address': {'addressCountry': 'CH', 'addressLocality': 'Zürich', 'postalCode': '8004', 'streetAddress': 'Stauffacherstrasse 60', 'telephone': '+41 44 241 64 04', 'email': None, 'url': 'https://www.volkshaus.ch/aktuell'}, 'geoCoordinates': {'latitude': 47.375577, 'longitude': 8.527125}, 'place': []}\n"
     ]
    },
    {
     "data": {
      "text/plain": [
       "{}"
      ]
     },
     "execution_count": 117,
     "metadata": {},
     "output_type": "execute_result"
    }
   ],
   "source": [
    "get_sub_main_id(id_url=id_url)"
   ]
  },
  {
   "cell_type": "code",
   "execution_count": 88,
   "metadata": {},
   "outputs": [
    {
     "data": {
      "text/html": [
       "<div>\n",
       "<style scoped>\n",
       "    .dataframe tbody tr th:only-of-type {\n",
       "        vertical-align: middle;\n",
       "    }\n",
       "\n",
       "    .dataframe tbody tr th {\n",
       "        vertical-align: top;\n",
       "    }\n",
       "\n",
       "    .dataframe thead th {\n",
       "        text-align: right;\n",
       "    }\n",
       "</style>\n",
       "<table border=\"1\" class=\"dataframe\">\n",
       "  <thead>\n",
       "    <tr style=\"text-align: right;\">\n",
       "      <th></th>\n",
       "      <th>@context</th>\n",
       "      <th>@type</th>\n",
       "      <th>@customType</th>\n",
       "      <th>identifier</th>\n",
       "      <th>copyrightHolder</th>\n",
       "      <th>license</th>\n",
       "      <th>tomasBookingId</th>\n",
       "      <th>category</th>\n",
       "      <th>name</th>\n",
       "      <th>disambiguatingDescription</th>\n",
       "      <th>...</th>\n",
       "      <th>price</th>\n",
       "      <th>photo</th>\n",
       "      <th>dateModified</th>\n",
       "      <th>opens</th>\n",
       "      <th>openingHours</th>\n",
       "      <th>openingHoursSpecification</th>\n",
       "      <th>specialOpeningHoursSpecification</th>\n",
       "      <th>address</th>\n",
       "      <th>geoCoordinates</th>\n",
       "      <th>place</th>\n",
       "    </tr>\n",
       "  </thead>\n",
       "  <tbody>\n",
       "    <tr>\n",
       "      <th>0</th>\n",
       "      <td>https://schema.org/</td>\n",
       "      <td>PerformingArtsTheater</td>\n",
       "      <td>None</td>\n",
       "      <td>1011143</td>\n",
       "      <td>{'de': 'Zürich Tourismus www.zuerich.com', 'en...</td>\n",
       "      <td>BY-SA</td>\n",
       "      <td>None</td>\n",
       "      <td>{'Nightlife': {'swissId': ''}, 'Theater': {'sw...</td>\n",
       "      <td>{'de': 'Theatersaal Volkshaus Zürich', 'en': '...</td>\n",
       "      <td>{'de': 'Direkt am Helvetiaplatz geniessen Musi...</td>\n",
       "      <td>...</td>\n",
       "      <td>{'de': None, 'en': None, 'fr': None, 'it': None}</td>\n",
       "      <td>None</td>\n",
       "      <td>2024-06-20T16:21</td>\n",
       "      <td>[]</td>\n",
       "      <td></td>\n",
       "      <td>None</td>\n",
       "      <td>{'de': '&lt;p&gt;&amp;Ouml;ffnungszeiten gem&amp;auml;ss &lt;a ...</td>\n",
       "      <td>{'addressCountry': 'CH', 'addressLocality': 'Z...</td>\n",
       "      <td>{'latitude': 47.375577, 'longitude': 8.527125}</td>\n",
       "      <td>[]</td>\n",
       "    </tr>\n",
       "  </tbody>\n",
       "</table>\n",
       "<p>1 rows × 28 columns</p>\n",
       "</div>"
      ],
      "text/plain": [
       "              @context                  @type @customType identifier  \\\n",
       "0  https://schema.org/  PerformingArtsTheater        None    1011143   \n",
       "\n",
       "                                     copyrightHolder license tomasBookingId  \\\n",
       "0  {'de': 'Zürich Tourismus www.zuerich.com', 'en...   BY-SA           None   \n",
       "\n",
       "                                            category  \\\n",
       "0  {'Nightlife': {'swissId': ''}, 'Theater': {'sw...   \n",
       "\n",
       "                                                name  \\\n",
       "0  {'de': 'Theatersaal Volkshaus Zürich', 'en': '...   \n",
       "\n",
       "                           disambiguatingDescription  ...  \\\n",
       "0  {'de': 'Direkt am Helvetiaplatz geniessen Musi...  ...   \n",
       "\n",
       "                                              price photo      dateModified  \\\n",
       "0  {'de': None, 'en': None, 'fr': None, 'it': None}  None  2024-06-20T16:21   \n",
       "\n",
       "  opens openingHours  openingHoursSpecification  \\\n",
       "0    []                                    None   \n",
       "\n",
       "                    specialOpeningHoursSpecification  \\\n",
       "0  {'de': '<p>&Ouml;ffnungszeiten gem&auml;ss <a ...   \n",
       "\n",
       "                                             address  \\\n",
       "0  {'addressCountry': 'CH', 'addressLocality': 'Z...   \n",
       "\n",
       "                                   geoCoordinates place  \n",
       "0  {'latitude': 47.375577, 'longitude': 8.527125}    []  \n",
       "\n",
       "[1 rows x 28 columns]"
      ]
     },
     "execution_count": 88,
     "metadata": {},
     "output_type": "execute_result"
    }
   ],
   "source": [
    "id = id_list['Parties']\n",
    "id_url = data_url +  f'?id={id}'\n",
    "\n",
    "r = requests.get(id_url, headers=headers)\n",
    "data = r.json()\n",
    "\n",
    "#fr_data = [{k: get_en(v) for (k,v) in f.items()} for f in data]\n",
    "df = pd.DataFrame(data)\n",
    "df"
   ]
  },
  {
   "cell_type": "code",
   "execution_count": 63,
   "metadata": {},
   "outputs": [
    {
     "name": "stdout",
     "output_type": "stream",
     "text": [
      "Root\n",
      "├── Accommodation\n",
      "│   ├── Apartments\n",
      "│   ├── Vacation Apartments\n",
      "│   ├── Hostels\n",
      "│   ├── B&Bs\n",
      "│   ├── Campsites\n",
      "│   └── Hotels\n",
      "├── Events\n",
      "│   ├── Other\n",
      "│   ├── Exhibitions\n",
      "│   ├── Children and families\n",
      "│   ├── Classical\n",
      "│   ├── Comedy\n",
      "│   ├── Conferences and congresses\n",
      "│   ├── Parties\n",
      "│   ├── Festivals\n",
      "│   ├── Trade Fair / Market\n",
      "│   ├── Sports Events\n",
      "│   ├── Opera\n",
      "│   ├── Pop, Rock, Jazz\n",
      "│   ├── Theater\n",
      "│   └── Traditional\n",
      "├── Gastronomy\n",
      "│   ├── Nightlife\n",
      "│   │   ├── Atmosphere\n",
      "│   │   │   ├── Lively and Cheerful\n",
      "│   │   │   ├── Alternative and Arty\n",
      "│   │   │   ├── Cool and Trendy\n",
      "│   │   │   ├── Cultural and Inspiring\n",
      "│   │   │   ├── Relaxed and Cozy\n",
      "│   │   │   ├── Glamorous and Chic\n",
      "│   │   │   ├── LGBTQ+*\n",
      "│   │   │   └── Traditional and Down-to-earth\n",
      "│   │   ├── Bars & Lounges\n",
      "│   │   │   ├── After-work\n",
      "│   │   │   ├── Choice Spirits\n",
      "│   │   │   ├── Cocktail Bar\n",
      "│   │   │   ├── Music Bar / Live Music\n",
      "│   │   │   ├── Wine Bar\n",
      "│   │   │   ├── Neighborhood Bar\n",
      "│   │   │   ├── Hotel Bar\n",
      "│   │   │   ├── Cultural Locale\n",
      "│   │   │   ├── Open-air Area\n",
      "│   │   │   ├── Pub / Special Beer Types\n",
      "│   │   │   └── Restaurant & Bar\n",
      "│   │   ├── Casinos\n",
      "│   │   └── Clubs & Discos\n",
      "│   │       ├── Afterhours\n",
      "│   │       ├── Hip-Hop / Rap / Reggae\n",
      "│   │       ├── House / Techno / Electro\n",
      "│   │       ├── Jazz / World Music\n",
      "│   │       ├── Latin / Salsa\n",
      "│   │       ├── Live Music\n",
      "│   │       ├── Party Beats\n",
      "│   │       └── Rock / Alternative\n",
      "│   └── Restaurants\n",
      "│       ├── Cuisine\n",
      "│       │   ├── American\n",
      "│       │   ├── Asian\n",
      "│       │   │   └── Sushi\n",
      "│       │   ├── BBQ\n",
      "│       │   ├── Bistro\n",
      "│       │   ├── Coffee Houses & Tea Rooms\n",
      "│       │   │   ├── Coffee\n",
      "│       │   │   ├── Cakes\n",
      "│       │   │   ├── Confectionery\n",
      "│       │   │   └── Tea\n",
      "│       │   ├── Winery\n",
      "│       │   ├── Spanish\n",
      "│       │   ├── Fish\n",
      "│       │   ├── French\n",
      "│       │   ├── Gourmet\n",
      "│       │   ├── International\n",
      "│       │   ├── Italian\n",
      "│       │   │   ├── Pasta\n",
      "│       │   │   └── Pizza\n",
      "│       │   ├── Mediterranean\n",
      "│       │   ├── Mexican\n",
      "│       │   ├── Oriental\n",
      "│       │   ├── Swiss Specialties\n",
      "│       │   │   ├── Zürcher Geschnetzeltes\n",
      "│       │   │   ├── Fondue\n",
      "│       │   │   ├── Hashbrown (Rösti)\n",
      "│       │   │   └── Raclette\n",
      "│       │   ├── Vegan friendly\n",
      "│       │   └── Vegetarian\n",
      "│       ├── Meal\n",
      "│       │   ├── Dinner\n",
      "│       │   ├── Breakfast\n",
      "│       │   ├── Brunch\n",
      "│       │   └── Lunch\n",
      "│       └── Restaurant Features\n",
      "│           ├── Family-friendly\n",
      "│           ├── Garden Terrace\n",
      "│           └── Online Bookings\n",
      "├── Place\n",
      "│   ├── Attractions\n",
      "│   │   ├── Architecture\n",
      "│   │   ├── Vantage Points\n",
      "│   │   ├── Churches\n",
      "│   │   ├── Monuments\n",
      "│   │   ├── Works of Art\n",
      "│   │   └── Squares & Streets\n",
      "│   ├── Wellness\n",
      "│   ├── Culture\n",
      "│   │   ├── Stages\n",
      "│   │   │   ├── Opera\n",
      "│   │   │   └── Theater\n",
      "│   │   ├── Movie\n",
      "│   │   ├── Galleries\n",
      "│   │   ├── Music\n",
      "│   │   └── Museums\n",
      "│   │       ├── Child-friendly\n",
      "│   │       ├── Art\n",
      "│   │       ├── Science & Technology\n",
      "│   │       ├── Cultural History\n",
      "│   │       ├── Design & Architecture\n",
      "│   │       └── Photography\n",
      "│   ├── Nature\n",
      "│   │   ├── Water\n",
      "│   │   ├── Mountains\n",
      "│   │   ├── Parks & Gardens\n",
      "│   │   └── Zoos & Animals\n",
      "│   ├── Products\n",
      "│   │   ├── Made in Zurich\n",
      "│   │   └── Sustainable Production\n",
      "│   ├── Shopping\n",
      "│   │   ├── Bike Hire\n",
      "│   │   ├── Shopping Mall\n",
      "│   │   ├── Christmas Market\n",
      "│   │   ├── Department store\n",
      "│   │   ├── Fashion & Accessoires\n",
      "│   │   ├── Food & Delicacy\n",
      "│   │   ├── Markets\n",
      "│   │   ├── Watches & Jewelry\n",
      "│   │   ├── Souvenirs & Gifts\n",
      "│   │   ├── Swissness\n",
      "│   │   └── Tourist Information\n",
      "│   └── Sport\n",
      "│       ├── Summer Tobogganing\n",
      "│       ├── Climbing\n",
      "│       ├── Bike Tours\n",
      "│       ├── Running\n",
      "│       ├── Cross-Country Skiing\n",
      "│       ├── Ice Skating\n",
      "│       ├── Tobogganing\n",
      "│       ├── Sailing\n",
      "│       ├── Inline Skating\n",
      "│       ├── Hikes\n",
      "│       ├── Golf\n",
      "│       ├── Motor Boat Hire\n",
      "│       ├── Mountain Biking\n",
      "│       ├── Swimming\n",
      "│       ├── Walks\n",
      "│       ├── Pedalos\n",
      "│       ├── Snowshoe Trekking\n",
      "│       ├── Skiing/Snowboarding\n",
      "│       ├── Ski Touring\n",
      "│       ├── Waterskiing/Wakeboarding\n",
      "│       ├── SUP Stand Up Paddling\n",
      "│       └── Surfing\n",
      "└── Tours & Excursions\n"
     ]
    }
   ],
   "source": [
    "from anytree import Node, RenderTree\n",
    "from urllib.parse import urljoin\n",
    "\n",
    "headers = {'Accept': 'application/json'}\n",
    "base_url = 'https://www.zuerich.com'\n",
    "data_url = base_url + '/en/api/v2/data'\n",
    "r = requests.get(data_url, headers=headers)\n",
    "data = r.json()\n",
    "data\n",
    "\n",
    "def find_children(data, parent):\n",
    "    children = [e fqor e in data if e['parent'] == parent.id]\n",
    "    for c in children:\n",
    "        node = Node(id=c['id'], name=c['name'].get('en', c['name']), urlpath=c['path'], parent=parent)\n",
    "        find_children(data, node)\n",
    "\n",
    "root = Node(id='0', name=\"Root\", urlpath=\"/data\")\n",
    "find_children(data, root)\n",
    "\n",
    "# Zeige den Baum an\n",
    "for pre, _, node in RenderTree(root):\n",
    "    print(\"%s%s\" % (pre, node.name))"
   ]
  },
  {
   "cell_type": "code",
   "execution_count": 74,
   "metadata": {},
   "outputs": [],
   "source": [
    "children = [e for e in data if e['parent'] == '75']\n"
   ]
  },
  {
   "cell_type": "code",
   "execution_count": null,
   "metadata": {},
   "outputs": [],
   "source": []
  },
  {
   "cell_type": "code",
   "execution_count": null,
   "metadata": {},
   "outputs": [],
   "source": []
  },
  {
   "cell_type": "code",
   "execution_count": null,
   "metadata": {},
   "outputs": [],
   "source": [
    "def get_restaurant_types():\n",
    "    response = requests.get(url)\n",
    "    data = response.json()\n",
    "    # Supposons que les types de restaurants soient dans une clé 'restaurant_types'\n",
    "    return data.get('restaurant_types', [])\n",
    "\n",
    "# Fonction pour récupérer les restaurants en fonction du type sélectionné\n",
    "def get_restaurants_by_type(restau_type):\n",
    "    # Modifiez cette URL et les paramètres selon votre API réelle\n",
    "    response = requests.get(url, params={'type': restau_type})\n",
    "    data = response.json()\n",
    "    return data.get('restaurants', [])\n",
    "\n",
    "# Gestion de la commande /restau\n",
    "@bot.message_handler(commands=['restau'])\n",
    "def handle_restau(message):\n",
    "    restau_types = get_restaurant_types()\n",
    "    markup = types.InlineKeyboardMarkup()\n",
    "    for restau_type in restau_types:\n",
    "        markup.add(types.InlineKeyboardButton(text=restau_type, callback_data=restau_type))\n",
    "    bot.send_message(message.chat.id, \"Choisissez un type de restaurant:\", reply_markup=markup)\n",
    "\n",
    "# Gestion des réponses aux boutons cliquables\n",
    "@bot.callback_query_handler(func=lambda call: True)\n",
    "def callback_query(call):\n",
    "    restau_type = call.data\n",
    "    restaurants = get_restaurants_by_type(restau_type)\n",
    "    response_text = f\"Restaurants de type {restau_type}:\\n\\n\"\n",
    "    for restau in restaurants:\n",
    "        response_text += f\"{restau['name']}\\nAdresse: {restau['address']}\\n\\n\"\n",
    "    bot.send_message(call.message.chat.id, response_text)"
   ]
  }
 ],
 "metadata": {
  "kernelspec": {
   "display_name": "bot_telegram",
   "language": "python",
   "name": "python3"
  },
  "language_info": {
   "codemirror_mode": {
    "name": "ipython",
    "version": 3
   },
   "file_extension": ".py",
   "mimetype": "text/x-python",
   "name": "python",
   "nbconvert_exporter": "python",
   "pygments_lexer": "ipython3",
   "version": "3.12.3"
  }
 },
 "nbformat": 4,
 "nbformat_minor": 2
}
